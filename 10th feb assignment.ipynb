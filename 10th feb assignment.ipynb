{
 "cells": [
  {
   "cell_type": "code",
   "execution_count": null,
   "id": "2f0ef742-1515-43db-8c38-23138254c3ae",
   "metadata": {},
   "outputs": [],
   "source": [
    "# Q1. Which function is used to open a file? What are the different modes of opening a file? Explain each mode\n",
    "# of file opening."
   ]
  },
  {
   "cell_type": "code",
   "execution_count": null,
   "id": "65a9a177-0fac-4787-95d3-002df5a75912",
   "metadata": {},
   "outputs": [],
   "source": [
    "'''Read Only (‘r’)      : Open text file for reading. \n",
    "Read and Writ (‘r+’)  : Open the file for reading and writing.  \n",
    "Write Only (‘w’)      : Open the file for writing. For the existing files, the data is truncated and over-written.\n",
    "Write and Read (‘w+’) : Open the file for reading and writing. For an existing file, data is truncated and over-written.\n",
    "Append Only (‘a’)     : Open the file for writing. The file is created if it does not exist. The handle is positioned at the end of the file. \n",
    "Append and Read (‘a+’): Open the file for reading and writing. The file is created if it does not exist. The handle is positioned at the end of the file.''' "
   ]
  },
  {
   "cell_type": "code",
   "execution_count": null,
   "id": "7439d7c8-7956-4c83-bed5-278a38b6d3cc",
   "metadata": {},
   "outputs": [],
   "source": []
  },
  {
   "cell_type": "code",
   "execution_count": null,
   "id": "e0011a6a-6cfb-4320-9489-7de615dd7102",
   "metadata": {},
   "outputs": [],
   "source": [
    "# Q2. Why close() function is used? Why is it important to close a file?"
   ]
  },
  {
   "cell_type": "code",
   "execution_count": null,
   "id": "83c06d5b-b3a8-4e75-888f-653f5000a949",
   "metadata": {},
   "outputs": [],
   "source": [
    "'''The close() method closes an open file. You should always close your files, in some cases, due to buffering, \n",
    "changes made to a file may not show until you close the file.'''"
   ]
  },
  {
   "cell_type": "code",
   "execution_count": null,
   "id": "a3f7d3d4-deb6-41b1-8e47-aa70976a6972",
   "metadata": {},
   "outputs": [],
   "source": []
  },
  {
   "cell_type": "code",
   "execution_count": null,
   "id": "9d94bfe5-4dc5-4a3f-adbc-09d2a5631e7c",
   "metadata": {},
   "outputs": [],
   "source": []
  },
  {
   "cell_type": "code",
   "execution_count": null,
   "id": "b26d82ad-232c-47a8-b4f3-ad5c97f478c5",
   "metadata": {},
   "outputs": [],
   "source": [
    "# Write a python program to create a text file. Write ‘I want to become a Data Scientist’ in that file. Then close the file. Open this file and read the content of the file."
   ]
  },
  {
   "cell_type": "code",
   "execution_count": 5,
   "id": "6301899d-557e-435e-ae40-942b44ece233",
   "metadata": {},
   "outputs": [],
   "source": [
    "def ronak():\n",
    "    \n",
    "    f = open (\"rk.text\",\"w\")\n",
    "    f.write(\"i want to become a data scientist\")\n",
    "    f.close()\n",
    "    "
   ]
  },
  {
   "cell_type": "code",
   "execution_count": null,
   "id": "3fe50ad1-7b71-474e-9565-e77856eaa531",
   "metadata": {},
   "outputs": [],
   "source": []
  },
  {
   "cell_type": "code",
   "execution_count": null,
   "id": "d341b8b7-041c-42d3-8221-ee46267d860e",
   "metadata": {},
   "outputs": [],
   "source": [
    "# Explain the following with python code: read(), readline() and readlines()."
   ]
  },
  {
   "cell_type": "code",
   "execution_count": null,
   "id": "c19a4d10-3dbd-47f0-99d1-2ea6e016c4a5",
   "metadata": {},
   "outputs": [],
   "source": [
    "'''The read()     method returns the specified number of bytes from the file\n",
    "Python readline() method will return a line from the file when called.\n",
    "readlines()       method will return all the lines in a file in the format of a list where each element is a line in the file'''  "
   ]
  },
  {
   "cell_type": "code",
   "execution_count": null,
   "id": "e3a2f44e-3476-40d5-a4a7-13795233db84",
   "metadata": {},
   "outputs": [],
   "source": []
  },
  {
   "cell_type": "code",
   "execution_count": null,
   "id": "8f036a1f-c3cd-490c-95a3-689dad23e66b",
   "metadata": {},
   "outputs": [],
   "source": [
    "# Explain why with statement is used with open(). What is the advantage of using with statement and open() together?"
   ]
  },
  {
   "cell_type": "code",
   "execution_count": null,
   "id": "e35893bc-80ef-4077-b4c9-2184b3510fff",
   "metadata": {},
   "outputs": [],
   "source": [
    "'''The with statement works with the open() function to open a file. \n",
    "Unlike open() where you have to close the file with the close() method, \n",
    "the with statement closes the file for you without you telling it to'''"
   ]
  },
  {
   "cell_type": "code",
   "execution_count": null,
   "id": "dee18dc5-b59a-4dde-9380-dab88ee6d312",
   "metadata": {},
   "outputs": [],
   "source": []
  },
  {
   "cell_type": "code",
   "execution_count": null,
   "id": "cb1062f7-be22-4e67-a661-58e21be02771",
   "metadata": {},
   "outputs": [],
   "source": []
  },
  {
   "cell_type": "code",
   "execution_count": null,
   "id": "354ea9c6-7dfd-443a-bb52-544e46ea2f04",
   "metadata": {},
   "outputs": [],
   "source": [
    "# Explain the write() and writelines() functions. Give a suitable example."
   ]
  },
  {
   "cell_type": "code",
   "execution_count": null,
   "id": "4a568392-cf2c-48de-a50d-1ca490028a9d",
   "metadata": {},
   "outputs": [],
   "source": [
    "'''write() is used to write a string to an already opened file\n",
    "while writelines() method is used to write a list of strings in an opened file.'''"
   ]
  }
 ],
 "metadata": {
  "kernelspec": {
   "display_name": "Python 3 (ipykernel)",
   "language": "python",
   "name": "python3"
  },
  "language_info": {
   "codemirror_mode": {
    "name": "ipython",
    "version": 3
   },
   "file_extension": ".py",
   "mimetype": "text/x-python",
   "name": "python",
   "nbconvert_exporter": "python",
   "pygments_lexer": "ipython3",
   "version": "3.10.8"
  }
 },
 "nbformat": 4,
 "nbformat_minor": 5
}
